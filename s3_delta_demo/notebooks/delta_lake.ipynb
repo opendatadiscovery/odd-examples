{
 "cells": [
  {
   "cell_type": "code",
   "execution_count": null,
   "id": "c8f50b0b",
   "metadata": {
    "tags": []
   },
   "outputs": [],
   "source": [
    "!pip install delta-spark==2.3.0"
   ]
  },
  {
   "cell_type": "code",
   "execution_count": null,
   "id": "26457231",
   "metadata": {
    "tags": []
   },
   "outputs": [],
   "source": [
    "from delta.pip_utils import configure_spark_with_delta_pip\n",
    "from pyspark.sql import SparkSession\n",
    "from pyspark.sql.types import StringType, StructField, StructType"
   ]
  },
  {
   "cell_type": "code",
   "execution_count": null,
   "id": "63f5742a-4c89-42c1-9f7d-e9126674a783",
   "metadata": {
    "tags": []
   },
   "outputs": [],
   "source": [
    "import requests\n",
    "oddrn_key = \"local\"\n",
    "request = {\"name\":\"spark\", \"oddrn\":\"//spark/host/local\"}\n",
    "response = requests.post(\"http://odd-platform:8080/api/datasources\", json=request)\n",
    "response.raise_for_status()"
   ]
  },
  {
   "cell_type": "code",
   "execution_count": null,
   "id": "a2c02e42",
   "metadata": {
    "tags": []
   },
   "outputs": [],
   "source": [
    "packages = [\n",
    "    \"org.apache.hadoop:hadoop-aws:3.3.2\",\n",
    "    \"com.amazonaws:aws-java-sdk-bundle:1.11.1026\",\n",
    "    \"io.delta:delta-core_2.12:2.3.0\",\n",
    "]"
   ]
  },
  {
   "cell_type": "code",
   "execution_count": null,
   "id": "8b16c7ed",
   "metadata": {
    "tags": []
   },
   "outputs": [],
   "source": [
    "spark = (\n",
    "    SparkSession.builder.master(\"local\")\n",
    "    .appName(\"DeltaLakeFundamentals\")\n",
    "    .config(\"spark.sql.extensions\", \"io.delta.sql.DeltaSparkSessionExtension\")\n",
    "    .config(\n",
    "        \"spark.sql.catalog.spark_catalog\",\n",
    "        \"org.apache.spark.sql.delta.catalog.DeltaCatalog\",\n",
    "    )\n",
    "    .config(\"spark.hadoop.fs.s3a.impl\", \"org.apache.hadoop.fs.s3a.S3AFileSystem\")\n",
    "    .config(\"spark.hadoop.fs.s3a.access.key\", \"minioadmin\")\n",
    "    .config(\"spark.hadoop.fs.s3a.secret.key\", \"minioadmin\")\n",
    "    .config(\"spark.hadoop.fs.s3a.region\", \"eu-central-1\")\n",
    "    .config(\"spark.hadoop.fs.s3a.endpoint\", \"http://minio:9000\")\n",
    "    .config(\"spark.hadoop.fs.s3a.path.style.access\", \"true\")\n",
    "    .config(\"spark.odd.host.url\", \"http://odd-platform:8080\")\n",
    "    .config(\"spark.odd.oddrn.key\", \"local\")\n",
    "    .config(\"spark.jars\", \"/jars/odd-spark-adapter-local.jar\")\n",
    "    .config(\n",
    "        \"spark.extraListeners\", \"org.opendatadiscovery.adapters.spark.ODDSparkListener\"\n",
    "    )\n",
    ")\n",
    "\n",
    "spark = configure_spark_with_delta_pip(spark, extra_packages=packages).getOrCreate()\n",
    "# spark._sc.setLogLevel(\"WARN\")"
   ]
  },
  {
   "cell_type": "code",
   "execution_count": null,
   "id": "0e50fbf7",
   "metadata": {
    "tags": []
   },
   "outputs": [],
   "source": [
    "SCHEMA = StructType(\n",
    "    [\n",
    "        StructField(\"id\", StringType(), True),  # ACCIDENT ID\n",
    "        StructField(\"data_inversa\", StringType(), True),  # DATE\n",
    "        StructField(\"dia_semana\", StringType(), True),  # DAY OF WEEK\n",
    "        StructField(\"horario\", StringType(), True),  # HOUR\n",
    "        StructField(\"uf\", StringType(), True),  # BRAZILIAN STATE\n",
    "        StructField(\"br\", StringType(), True),  # HIGHWAY\n",
    "        # AND OTHER FIELDS OMITTED TO MAKE THIS CODE BLOCK SMALL\n",
    "    ]\n",
    ")\n",
    "\n",
    "df_acidentes = (\n",
    "    spark.read.format(\"csv\")\n",
    "    .option(\"delimiter\", \";\")\n",
    "    .option(\"header\", \"true\")\n",
    "    .option(\"encoding\", \"ISO-8859-1\")\n",
    "    .schema(SCHEMA)\n",
    "    .load(\"/data/datatran.csv\")\n",
    ")\n",
    "df_acidentes.show(5)"
   ]
  },
  {
   "cell_type": "code",
   "execution_count": null,
   "id": "137fd3c4",
   "metadata": {
    "tags": []
   },
   "outputs": [],
   "source": [
    "df_acidentes\\\n",
    "    .write\\\n",
    "    .format(\"delta\")\\\n",
    "    .option(\"overwriteSchema\", \"true\")\\\n",
    "    .mode(\"overwrite\")\\\n",
    "    .save(\"s3a://deltalake/accidents/\")"
   ]
  },
  {
   "cell_type": "code",
   "execution_count": null,
   "id": "e8ed57ef-0941-46cb-bbd6-55204f05f10b",
   "metadata": {
    "tags": []
   },
   "outputs": [],
   "source": [
    "spark.stop()"
   ]
  },
  {
   "cell_type": "code",
   "execution_count": null,
   "id": "f89d858c-a084-4b67-b8c1-cb9296587260",
   "metadata": {},
   "outputs": [],
   "source": []
  },
  {
   "cell_type": "code",
   "execution_count": null,
   "id": "22a855c0-06f2-47f0-973e-69f401f11983",
   "metadata": {},
   "outputs": [],
   "source": []
  }
 ],
 "metadata": {
  "kernelspec": {
   "display_name": "Python 3 (ipykernel)",
   "language": "python",
   "name": "python3"
  },
  "language_info": {
   "codemirror_mode": {
    "name": "ipython",
    "version": 3
   },
   "file_extension": ".py",
   "mimetype": "text/x-python",
   "name": "python",
   "nbconvert_exporter": "python",
   "pygments_lexer": "ipython3",
   "version": "3.10.10"
  }
 },
 "nbformat": 4,
 "nbformat_minor": 5
}
